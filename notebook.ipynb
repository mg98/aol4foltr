{
 "cells": [
  {
   "cell_type": "code",
   "execution_count": 24,
   "metadata": {},
   "outputs": [],
   "source": [
    "import pandas as pd\n",
    "import ast\n",
    "\n",
    "# df = pd.read_csv('dataset/aol4foltr/metadata.csv', parse_dates=['timestamp'], dtype={'user_id': str})\n",
    "df = pd.read_csv('dataset/aol_dataset_top10000.csv', parse_dates=['time'], low_memory=False)\n",
    "df['candidate_doc_ids'] = df['candidate_doc_ids'].apply(ast.literal_eval)"
   ]
  },
  {
   "cell_type": "markdown",
   "metadata": {},
   "source": [
    "# Factsheet"
   ]
  },
  {
   "cell_type": "code",
   "execution_count": 26,
   "metadata": {},
   "outputs": [
    {
     "name": "stdout",
     "output_type": "stream",
     "text": [
      "Number of query logs: 2,594,705\n",
      "Number of unique queries: 637,996\n",
      "Number of unique clicked documents: 428,157\n",
      "Number of unique candidate documents: 1,294,562\n",
      "Number of unique users: 10,000\n"
     ]
    }
   ],
   "source": [
    "# Basic statistics about the dataset\n",
    "print(f\"Number of query logs: {len(df):,}\")\n",
    "print(f\"Number of unique queries: {df['query'].nunique():,}\")\n",
    "print(f\"Number of unique clicked documents: {df['doc_id'].nunique():,}\") \n",
    "print(f\"Number of unique candidate documents: {len(set().union(*df['candidate_doc_ids'])):,}\")\n",
    "print(f\"Number of unique users: {df['user_id'].nunique():,}\")\n"
   ]
  },
  {
   "cell_type": "markdown",
   "metadata": {},
   "source": [
    "# Top-10 Users"
   ]
  },
  {
   "cell_type": "code",
   "execution_count": 3,
   "metadata": {},
   "outputs": [
    {
     "name": "stdout",
     "output_type": "stream",
     "text": [
      "User 71845: 76,432 queries (33,497 unique)\n",
      "User 2263543: 3,626 queries (428 unique)\n",
      "User 137248: 2,985 queries (107 unique)\n",
      "User 3318459: 2,781 queries (388 unique)\n",
      "User 497336: 2,427 queries (97 unique)\n",
      "User 42075: 2,338 queries (288 unique)\n",
      "User 22661144: 2,123 queries (118 unique)\n",
      "User 1306380: 2,105 queries (310 unique)\n",
      "User 1901902: 2,097 queries (140 unique)\n",
      "User 1308574: 2,032 queries (60 unique)\n"
     ]
    }
   ],
   "source": [
    "# Get top 10 users by number of queries\n",
    "user_stats = df.groupby('user_id').agg({\n",
    "    'query': ['count', 'nunique']\n",
    "}).sort_values(('query', 'count'), ascending=False).head(10)\n",
    "\n",
    "# Format the output string\n",
    "for user_id, (total_queries, unique_queries) in user_stats.iterrows():\n",
    "    print(f\"User {user_id}: {total_queries:,} queries ({unique_queries:,} unique)\")"
   ]
  },
  {
   "cell_type": "code",
   "execution_count": 9,
   "metadata": {},
   "outputs": [
    {
     "name": "stdout",
     "output_type": "stream",
     "text": [
      "Top users account for 26.5% of all queries\n",
      "The 10000th user has 146 queries\n"
     ]
    }
   ],
   "source": [
    "# Get number of queries for 100th most active user\n",
    "user_query_counts = df.groupby('user_id')['query'].count().sort_values(ascending=False)\n",
    "user_100 = user_query_counts.iloc[99]  # 0-based indexing\n",
    "print(f\"The 100th most active user made {user_100:,} queries\")\n"
   ]
  }
 ],
 "metadata": {
  "kernelspec": {
   "display_name": "Python 3",
   "language": "python",
   "name": "python3"
  },
  "language_info": {
   "codemirror_mode": {
    "name": "ipython",
    "version": 3
   },
   "file_extension": ".py",
   "mimetype": "text/x-python",
   "name": "python",
   "nbconvert_exporter": "python",
   "pygments_lexer": "ipython3",
   "version": "3.11.5"
  }
 },
 "nbformat": 4,
 "nbformat_minor": 2
}
